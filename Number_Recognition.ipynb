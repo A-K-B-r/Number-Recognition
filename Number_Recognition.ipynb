{
  "nbformat": 4,
  "nbformat_minor": 0,
  "metadata": {
    "colab": {
      "provenance": []
    },
    "kernelspec": {
      "name": "python3",
      "display_name": "Python 3"
    },
    "language_info": {
      "name": "python"
    }
  },
  "cells": [
    {
      "cell_type": "code",
      "execution_count": null,
      "metadata": {
        "id": "q53jKEJjdu0b"
      },
      "outputs": [],
      "source": [
        "import numpy as np\n",
        "from tensorflow import keras\n",
        "from tensorflow.keras.datasets import mnist\n",
        "from tensorflow.keras.models import Sequential\n",
        "from tensorflow.keras.layers import Conv2D, MaxPooling2D, Flatten, Dense"
      ]
    },
    {
      "cell_type": "code",
      "source": [
        "(x_train, y_train), (x_test, y_test) = mnist.load_data()"
      ],
      "metadata": {
        "colab": {
          "base_uri": "https://localhost:8080/"
        },
        "id": "jsOe6qJod0ev",
        "outputId": "e8befdf3-f16f-4011-a88e-1d9ad3fe7da9"
      },
      "execution_count": null,
      "outputs": [
        {
          "output_type": "stream",
          "name": "stdout",
          "text": [
            "Downloading data from https://storage.googleapis.com/tensorflow/tf-keras-datasets/mnist.npz\n",
            "11490434/11490434 [==============================] - 0s 0us/step\n"
          ]
        }
      ]
    },
    {
      "cell_type": "code",
      "source": [
        "x_train = x_train.reshape(x_train.shape[0], 28, 28, 1).astype('float32') / 255.0\n",
        "x_test = x_test.reshape(x_test.shape[0], 28, 28, 1).astype('float32') / 255.0"
      ],
      "metadata": {
        "id": "Uc6qkteAd3Lg"
      },
      "execution_count": null,
      "outputs": []
    },
    {
      "cell_type": "code",
      "source": [
        "num_classes = 10\n",
        "y_train = keras.utils.to_categorical(y_train, num_classes)\n",
        "y_test = keras.utils.to_categorical(y_test, num_classes)"
      ],
      "metadata": {
        "id": "dHBIPfaTeB-y"
      },
      "execution_count": null,
      "outputs": []
    },
    {
      "cell_type": "code",
      "source": [
        "model = Sequential()\n",
        "model.add(Conv2D(32, kernel_size=(3, 3), activation='relu', input_shape=(28, 28, 1)))\n",
        "model.add(Conv2D(64, kernel_size=(3, 3), activation='relu'))\n",
        "model.add(MaxPooling2D(pool_size=(2, 2)))\n",
        "model.add(Flatten())\n",
        "model.add(Dense(128, activation='relu'))\n",
        "model.add(Dense(num_classes, activation='softmax'))"
      ],
      "metadata": {
        "id": "YenyPh5PeF3_"
      },
      "execution_count": null,
      "outputs": []
    },
    {
      "cell_type": "code",
      "source": [
        "model.compile(loss=keras.losses.categorical_crossentropy,\n",
        "              optimizer=keras.optimizers.Adam(),\n",
        "              metrics=['accuracy'])"
      ],
      "metadata": {
        "id": "yiRTeL7keJcI"
      },
      "execution_count": null,
      "outputs": []
    },
    {
      "cell_type": "code",
      "source": [
        "batch_size = 128\n",
        "epochs = 10\n",
        "model.fit(x_train, y_train, batch_size=batch_size, epochs=epochs, validation_data=(x_test, y_test))"
      ],
      "metadata": {
        "colab": {
          "base_uri": "https://localhost:8080/"
        },
        "id": "MyLNfeVfeMvs",
        "outputId": "e976cfe8-254f-49c6-a825-88ffa4cc7bd0"
      },
      "execution_count": null,
      "outputs": [
        {
          "output_type": "stream",
          "name": "stdout",
          "text": [
            "Epoch 1/10\n",
            "469/469 [==============================] - 104s 220ms/step - loss: 0.1539 - accuracy: 0.9541 - val_loss: 0.0569 - val_accuracy: 0.9828\n",
            "Epoch 2/10\n",
            "469/469 [==============================] - 103s 220ms/step - loss: 0.0424 - accuracy: 0.9871 - val_loss: 0.0426 - val_accuracy: 0.9859\n",
            "Epoch 3/10\n",
            "469/469 [==============================] - 104s 222ms/step - loss: 0.0264 - accuracy: 0.9919 - val_loss: 0.0358 - val_accuracy: 0.9872\n",
            "Epoch 4/10\n",
            "469/469 [==============================] - 102s 217ms/step - loss: 0.0165 - accuracy: 0.9949 - val_loss: 0.0339 - val_accuracy: 0.9903\n",
            "Epoch 5/10\n",
            "469/469 [==============================] - 103s 219ms/step - loss: 0.0126 - accuracy: 0.9959 - val_loss: 0.0377 - val_accuracy: 0.9895\n",
            "Epoch 6/10\n",
            "469/469 [==============================] - 101s 216ms/step - loss: 0.0103 - accuracy: 0.9967 - val_loss: 0.0287 - val_accuracy: 0.9924\n",
            "Epoch 7/10\n",
            "469/469 [==============================] - 103s 220ms/step - loss: 0.0057 - accuracy: 0.9981 - val_loss: 0.0337 - val_accuracy: 0.9899\n",
            "Epoch 8/10\n",
            "469/469 [==============================] - 102s 217ms/step - loss: 0.0057 - accuracy: 0.9981 - val_loss: 0.0476 - val_accuracy: 0.9878\n",
            "Epoch 9/10\n",
            "469/469 [==============================] - 101s 216ms/step - loss: 0.0067 - accuracy: 0.9977 - val_loss: 0.0404 - val_accuracy: 0.9890\n",
            "Epoch 10/10\n",
            "469/469 [==============================] - 103s 219ms/step - loss: 0.0049 - accuracy: 0.9983 - val_loss: 0.0417 - val_accuracy: 0.9895\n"
          ]
        },
        {
          "output_type": "execute_result",
          "data": {
            "text/plain": [
              "<keras.callbacks.History at 0x7f6f09137a30>"
            ]
          },
          "metadata": {},
          "execution_count": 7
        }
      ]
    },
    {
      "cell_type": "code",
      "source": [
        "score = model.evaluate(x_test, y_test, verbose=0)\n",
        "print('Test loss:', score[0])\n",
        "print('Test accuracy:', score[1])"
      ],
      "metadata": {
        "colab": {
          "base_uri": "https://localhost:8080/"
        },
        "id": "HBQcABaaeQs-",
        "outputId": "b1121757-8448-4b6c-83e3-c7b60f8ec6e3"
      },
      "execution_count": null,
      "outputs": [
        {
          "output_type": "stream",
          "name": "stdout",
          "text": [
            "Test loss: 0.041723672300577164\n",
            "Test accuracy: 0.9894999861717224\n"
          ]
        }
      ]
    }
  ]
}